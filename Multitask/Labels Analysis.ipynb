{
 "cells": [
  {
   "cell_type": "code",
   "execution_count": 1,
   "metadata": {},
   "outputs": [
    {
     "name": "stdout",
     "output_type": "stream",
     "text": [
      "9897\n",
      "(9897,) (9897,) (9897,)\n"
     ]
    }
   ],
   "source": [
    "import csv\n",
    "import numpy as np\n",
    "from sklearn.metrics import f1_score\n",
    "from sklearn.metrics import homogeneity_score\n",
    "from sklearn.metrics import normalized_mutual_info_score as nmi\n",
    "\n",
    "import pandas\n",
    "\n",
    "def load_labels(fname):\n",
    "    data = {}\n",
    "    with open(fname, 'r') as f:\n",
    "        reader = csv.DictReader(f)\n",
    "        for row in reader:\n",
    "            data[row['subject']] = int(row['label'])\n",
    "    return data\n",
    "\n",
    "def load_scores(fname):\n",
    "    data = {}\n",
    "    with open(fname, 'r') as f:\n",
    "        reader = csv.DictReader(f)\n",
    "        for row in reader:\n",
    "            data[row['subject']] = float(row['label'])\n",
    "    return data\n",
    "\n",
    "hugh = load_labels('mnt/zooniverse/MH2/mh2_golds.csv')\n",
    "volunteer = load_labels('mnt/zooniverse/MH2/majority_labels.csv')\n",
    "first = load_labels('mnt/zooniverse/MH2/first_label.csv')\n",
    "volunteer6 = load_labels('mnt/zooniverse/MH2/majority_labels0.6.csv')\n",
    "volunteer4 = load_labels('mnt/zooniverse/MH2/majority_labels0.4.csv')\n",
    "volunteer2 = load_labels('mnt/zooniverse/MH2/majority_labels0.2.csv')\n",
    "volunteer1 = load_labels('mnt/zooniverse/MH2/majority_labels0.1.csv')\n",
    "swap = load_scores('mnt/zooniverse/MH2/swap_scores.csv')\n",
    "\n",
    "subjects = np.array(sorted(hugh.keys()))\n",
    "# i = np.arange(len(subjects))\n",
    "print(len(subjects))\n",
    "\n",
    "hugh = np.array([hugh[s] for s in subjects])\n",
    "volunteer = np.array([volunteer[s] for s in subjects])\n",
    "volunteer6 = np.array([volunteer6[s] for s in subjects])\n",
    "volunteer4 = np.array([volunteer4[s] for s in subjects])\n",
    "volunteer2 = np.array([volunteer2[s] for s in subjects])\n",
    "volunteer1 = np.array([volunteer1[s] for s in subjects])\n",
    "first = np.array([first[s] for s in subjects])\n",
    "swap = (np.array([swap[s] for s in subjects])>.5).astype(np.int)\n",
    "\n",
    "print(hugh.shape, volunteer.shape, first.shape)"
   ]
  },
  {
   "cell_type": "markdown",
   "metadata": {},
   "source": [
    "## Label Metrics\n",
    "\n",
    "Calculating the f1 score, precision, and recall of the volunteer labels. Doing this for the volunteer labels and for the first volunteer label per subject."
   ]
  },
  {
   "cell_type": "code",
   "execution_count": 2,
   "metadata": {},
   "outputs": [
    {
     "name": "stderr",
     "output_type": "stream",
     "text": [
      "Using TensorFlow backend.\n",
      "/home/larai002/Zooniverse/repos/muon/venv/lib/python3.5/site-packages/sklearn/metrics/cluster/supervised.py:844: FutureWarning: The behavior of NMI will change in version 0.22. To match the behavior of 'v_measure_score', NMI will use average_method='arithmetic' by default.\n",
      "  FutureWarning)\n"
     ]
    },
    {
     "data": {
      "text/html": [
       "<div>\n",
       "<style scoped>\n",
       "    .dataframe tbody tr th:only-of-type {\n",
       "        vertical-align: middle;\n",
       "    }\n",
       "\n",
       "    .dataframe tbody tr th {\n",
       "        vertical-align: top;\n",
       "    }\n",
       "\n",
       "    .dataframe thead th {\n",
       "        text-align: right;\n",
       "    }\n",
       "</style>\n",
       "<table border=\"1\" class=\"dataframe\">\n",
       "  <thead>\n",
       "    <tr style=\"text-align: right;\">\n",
       "      <th></th>\n",
       "      <th>name</th>\n",
       "      <th>f1</th>\n",
       "      <th>h</th>\n",
       "      <th>nmi</th>\n",
       "      <th>precision</th>\n",
       "      <th>recall</th>\n",
       "    </tr>\n",
       "  </thead>\n",
       "  <tbody>\n",
       "    <tr>\n",
       "      <th>0</th>\n",
       "      <td>ones</td>\n",
       "      <td>0.519632</td>\n",
       "      <td>-8.565571e-16</td>\n",
       "      <td>-2.500000</td>\n",
       "      <td>0.351015</td>\n",
       "      <td>1.000000</td>\n",
       "    </tr>\n",
       "    <tr>\n",
       "      <th>1</th>\n",
       "      <td>vote fractions</td>\n",
       "      <td>0.219929</td>\n",
       "      <td>3.440919e-01</td>\n",
       "      <td>0.364599</td>\n",
       "      <td>0.162411</td>\n",
       "      <td>0.340530</td>\n",
       "    </tr>\n",
       "    <tr>\n",
       "      <th>2</th>\n",
       "      <td>first volunteer</td>\n",
       "      <td>0.186345</td>\n",
       "      <td>3.711100e-01</td>\n",
       "      <td>0.383364</td>\n",
       "      <td>0.139618</td>\n",
       "      <td>0.280081</td>\n",
       "    </tr>\n",
       "    <tr>\n",
       "      <th>3</th>\n",
       "      <td>swap</td>\n",
       "      <td>0.833156</td>\n",
       "      <td>4.633191e-01</td>\n",
       "      <td>0.473394</td>\n",
       "      <td>0.885076</td>\n",
       "      <td>0.786989</td>\n",
       "    </tr>\n",
       "  </tbody>\n",
       "</table>\n",
       "</div>"
      ],
      "text/plain": [
       "              name        f1             h       nmi  precision    recall\n",
       "0             ones  0.519632 -8.565571e-16 -2.500000   0.351015  1.000000\n",
       "1   vote fractions  0.219929  3.440919e-01  0.364599   0.162411  0.340530\n",
       "2  first volunteer  0.186345  3.711100e-01  0.383364   0.139618  0.280081\n",
       "3             swap  0.833156  4.633191e-01  0.473394   0.885076  0.786989"
      ]
     },
     "metadata": {},
     "output_type": "display_data"
    }
   ],
   "source": [
    "from muon.dissolving.utils import StandardMetrics\n",
    "import sklearn.metrics as metrics\n",
    "\n",
    "\n",
    "standard_metrics = StandardMetrics()\n",
    "labels = [\n",
    "    ('vote fractions', volunteer),\n",
    "    ('swap', swap),\n",
    "    ('first volunteer', first),\n",
    "    ('ones', np.ones_like(hugh)),\n",
    "]\n",
    "\n",
    "for name, y_pred in labels:\n",
    "    standard_metrics.add(name, hugh, y_pred)\n",
    "    \n",
    "display(standard_metrics.to_df())\n",
    "# m.dump('mnt/subjects/standard_metrics.csv')\n",
    "\n",
    "# from muon.dissolving.utils import Metrics\n",
    "# import pickle\n",
    "# fname = 'mnt/clustering_models/aws/decv2/rotation/multitask_1-2018-12-09T22:36:29/metrics.pkl'\n",
    "# with open(fname, 'rb') as f:\n",
    "#     metrics = pickle.load(f)\n",
    "# %matplotlib inline\n",
    "# import matplotlib.pyplot as plt\n",
    "# fig = plt.figure(figsize=(8,8))\n",
    "# metrics.plot(fig, standard_metrics=standard_metrics)\n",
    "\n",
    "# ax = fig.add_subplot(111)\n",
    "# ax.set_xticks([.5, 1])\n",
    "# ax.set_xticklabels(['a', 'b'])\n",
    "# print(ax.get_xlim())\n",
    "\n",
    "# plt.show()"
   ]
  },
  {
   "cell_type": "code",
   "execution_count": 3,
   "metadata": {},
   "outputs": [
    {
     "name": "stdout",
     "output_type": "stream",
     "text": [
      "y@x=0.5 [[[0.21992935 0.16241076 0.34052965]]]\n"
     ]
    },
    {
     "data": {
      "image/png": "[encoded data removed]",
      "text/plain": [
       "<Figure size 864x576 with 3 Axes>"
      ]
     },
     "metadata": {
      "needs_background": "light"
     },
     "output_type": "display_data"
    }
   ],
   "source": [
    "%matplotlib inline\n",
    "import matplotlib.pyplot as plt\n",
    "        \n",
    "\n",
    "def plot_score_threshold(golds, scores, title, step=0.01):\n",
    "    subjects = np.array(sorted(golds.keys()))\n",
    "    \n",
    "    golds = np.array([golds[s] for s in subjects])\n",
    "    scores = np.array([scores[s] for s in subjects])\n",
    "    \n",
    "    keys = ['f1', 'precision', 'recall']\n",
    "    x = np.arange(0, 1, step)\n",
    "    y = np.zeros((x.shape[0], 3))\n",
    "    for i, t in enumerate(x):\n",
    "        labels = (scores>t).astype(np.int)\n",
    "        metrics_dict = StandardMetrics.calculate_metrics(hugh, labels, '')\n",
    "        y[i,:] = [metrics_dict[k] for k in keys]\n",
    "\n",
    "    print('y@x=0.5', y[np.where(x==.5),:])\n",
    "    fig = plt.figure(figsize=(12,8))\n",
    "    fig.suptitle(title)\n",
    "    fig.subplots_adjust(hspace=0.3)\n",
    "    for i in range(3):\n",
    "        ax = fig.add_subplot(221+i)\n",
    "        ax.plot(x, y[:,i])\n",
    "        ax.set_title(keys[i])\n",
    "        ax.set_xlabel('score threshold')\n",
    "        ax.set_ylim((0,1))\n",
    "    \n",
    "    return golds, scores, fig\n",
    "\n",
    "\n",
    "vote_fraction = load_scores('mnt/zooniverse/MH2/fraction.csv')\n",
    "golds = load_labels('mnt/zooniverse/MH2/mh2_golds.csv')\n",
    "golds, scores, fig = plot_score_threshold(golds, vote_fraction, 'Vote Fraction')\n",
    "plt.show()"
   ]
  },
  {
   "cell_type": "markdown",
   "metadata": {},
   "source": [
    "Figure above shows the f1 score, precision, and recall of the volunteer labels as a function of the threshold used to calculate the label from the vote fractions (a subject is labeled 1 if its score is greater than the threshold). It looks like the raw volunteer labels are just bad. Will generate some swap scores next and see how they compare."
   ]
  },
  {
   "cell_type": "code",
   "execution_count": 4,
   "metadata": {},
   "outputs": [
    {
     "name": "stdout",
     "output_type": "stream",
     "text": [
      "y@x=0.5 [[[0.83315557 0.88507608 0.78698906]]]\n"
     ]
    },
    {
     "data": {
      "image/png": "[encoded data removed]",
      "text/plain": [
       "<Figure size 864x576 with 3 Axes>"
      ]
     },
     "metadata": {
      "needs_background": "light"
     },
     "output_type": "display_data"
    }
   ],
   "source": [
    "swap_scores =load_scores('mnt/zooniverse/MH2/swap_scores.csv')\n",
    "golds = load_labels('mnt/zooniverse/MH2/mh2_golds.csv')\n",
    "golds, scores, fig = plot_score_threshold(golds, swap_scores, 'SWAP scores')\n",
    "plt.show()"
   ]
  },
  {
   "cell_type": "markdown",
   "metadata": {},
   "source": [
    "The swap scores are performing much better."
   ]
  },
  {
   "cell_type": "markdown",
   "metadata": {},
   "source": [
    "## Data Splits\n",
    "\n",
    "Reserved all subjects labelled by Hugh, and split them 50%-50% into the validation and test sets. Split up the remaining volunteer labelled subjects that were not labelled by Hugh with 90% in the train set and 10% in the train_dev set."
   ]
  },
  {
   "cell_type": "markdown",
   "metadata": {},
   "source": [
    "Data set with rotation"
   ]
  },
  {
   "cell_type": "code",
   "execution_count": 5,
   "metadata": {},
   "outputs": [
    {
     "data": {
      "text/html": [
       "<div>\n",
       "<style scoped>\n",
       "    .dataframe tbody tr th:only-of-type {\n",
       "        vertical-align: middle;\n",
       "    }\n",
       "\n",
       "    .dataframe tbody tr th {\n",
       "        vertical-align: top;\n",
       "    }\n",
       "\n",
       "    .dataframe thead th {\n",
       "        text-align: right;\n",
       "    }\n",
       "</style>\n",
       "<table border=\"1\" class=\"dataframe\">\n",
       "  <thead>\n",
       "    <tr style=\"text-align: right;\">\n",
       "      <th></th>\n",
       "      <th></th>\n",
       "      <th>train</th>\n",
       "      <th>train_dev</th>\n",
       "      <th>valid</th>\n",
       "      <th>test</th>\n",
       "    </tr>\n",
       "  </thead>\n",
       "  <tbody>\n",
       "    <tr>\n",
       "      <th>0</th>\n",
       "      <td>n</td>\n",
       "      <td>372541.000000</td>\n",
       "      <td>41393.000000</td>\n",
       "      <td>4948.000000</td>\n",
       "      <td>4948.000000</td>\n",
       "    </tr>\n",
       "    <tr>\n",
       "      <th>1</th>\n",
       "      <td>fraction (%)</td>\n",
       "      <td>87.898686</td>\n",
       "      <td>9.766416</td>\n",
       "      <td>1.167449</td>\n",
       "      <td>1.167449</td>\n",
       "    </tr>\n",
       "  </tbody>\n",
       "</table>\n",
       "</div>"
      ],
      "text/plain": [
       "                         train     train_dev        valid         test\n",
       "0             n  372541.000000  41393.000000  4948.000000  4948.000000\n",
       "1  fraction (%)      87.898686      9.766416     1.167449     1.167449"
      ]
     },
     "metadata": {},
     "output_type": "display_data"
    },
    {
     "name": "stdout",
     "output_type": "stream",
     "text": [
      "Total subjects: 423830\n"
     ]
    }
   ],
   "source": [
    "import pickle\n",
    "def report_splits(fname):\n",
    "    with open(fname, 'rb') as file:\n",
    "        splits = pickle.load(file)\n",
    "\n",
    "    keys = ['train', 'train_dev', 'valid', 'test']\n",
    "    stats = np.zeros((2, 4))\n",
    "    stats[0,:] = np.array([splits[k][1].shape[0] for k in keys])\n",
    "    stats[1,:] = stats[0,:] / np.sum(stats[0,:]) * 100\n",
    "\n",
    "    df = pandas.DataFrame(stats, columns=keys)\n",
    "    df.insert(0, '', ['n', 'fraction (%)'])\n",
    "    \n",
    "    total_subjects = int(np.sum(stats[0,:]))\n",
    "    return df, total_subjects\n",
    "\n",
    "df, N = report_splits('mnt/subjects/split_v2_rotation_xy.pkl')\n",
    "display(df)\n",
    "print('Total subjects: {:d}'.format(N))"
   ]
  },
  {
   "cell_type": "markdown",
   "metadata": {},
   "source": [
    "Data set without rotation"
   ]
  },
  {
   "cell_type": "code",
   "execution_count": 6,
   "metadata": {},
   "outputs": [
    {
     "data": {
      "text/html": [
       "<div>\n",
       "<style scoped>\n",
       "    .dataframe tbody tr th:only-of-type {\n",
       "        vertical-align: middle;\n",
       "    }\n",
       "\n",
       "    .dataframe tbody tr th {\n",
       "        vertical-align: top;\n",
       "    }\n",
       "\n",
       "    .dataframe thead th {\n",
       "        text-align: right;\n",
       "    }\n",
       "</style>\n",
       "<table border=\"1\" class=\"dataframe\">\n",
       "  <thead>\n",
       "    <tr style=\"text-align: right;\">\n",
       "      <th></th>\n",
       "      <th></th>\n",
       "      <th>train</th>\n",
       "      <th>train_dev</th>\n",
       "      <th>valid</th>\n",
       "      <th>test</th>\n",
       "    </tr>\n",
       "  </thead>\n",
       "  <tbody>\n",
       "    <tr>\n",
       "      <th>0</th>\n",
       "      <td>n</td>\n",
       "      <td>53183.000000</td>\n",
       "      <td>5909.000000</td>\n",
       "      <td>4948.000000</td>\n",
       "      <td>4948.000000</td>\n",
       "    </tr>\n",
       "    <tr>\n",
       "      <th>1</th>\n",
       "      <td>fraction (%)</td>\n",
       "      <td>77.090219</td>\n",
       "      <td>8.565258</td>\n",
       "      <td>7.172262</td>\n",
       "      <td>7.172262</td>\n",
       "    </tr>\n",
       "  </tbody>\n",
       "</table>\n",
       "</div>"
      ],
      "text/plain": [
       "                        train    train_dev        valid         test\n",
       "0             n  53183.000000  5909.000000  4948.000000  4948.000000\n",
       "1  fraction (%)     77.090219     8.565258     7.172262     7.172262"
      ]
     },
     "metadata": {},
     "output_type": "display_data"
    },
    {
     "name": "stdout",
     "output_type": "stream",
     "text": [
      "Total subjects: 68988\n"
     ]
    }
   ],
   "source": [
    "df, N = report_splits('mnt/subjects/split_v2_norotation_xy.pkl')\n",
    "display(df)\n",
    "print('Total subjects: {:d}'.format(N))"
   ]
  }
 ],
 "metadata": {
  "kernelspec": {
   "display_name": "muon",
   "language": "python",
   "name": "muon"
  },
  "language_info": {
   "codemirror_mode": {
    "name": "ipython",
    "version": 3
   },
   "file_extension": ".py",
   "mimetype": "text/x-python",
   "name": "python",
   "nbconvert_exporter": "python",
   "pygments_lexer": "ipython3",
   "version": "3.5.3"
  }
 },
 "nbformat": 4,
 "nbformat_minor": 2
}
