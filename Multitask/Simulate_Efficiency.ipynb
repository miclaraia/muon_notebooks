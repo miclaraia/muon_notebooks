{
 "cells": [
  {
   "cell_type": "markdown",
   "metadata": {},
   "source": [
    "Looking at a clean set of labels, without rotation. For 9897 subjects we get an 8.4x reduction in the number of clicks needed to classify all images."
   ]
  },
  {
   "cell_type": "code",
   "execution_count": 1,
   "metadata": {
    "scrolled": false
   },
   "outputs": [
    {
     "name": "stderr",
     "output_type": "stream",
     "text": [
      "Using TensorFlow backend.\n"
     ]
    },
    {
     "name": "stdout",
     "output_type": "stream",
     "text": [
      "{'subjects': '/data/lucifer1.2/users/larai002/muon_data/clustering_models/dec/dec_no_labels/subjects.pkl', 'tol': 0.001, 'maxiter': 20000.0, 'n_clusters': 50, 'n_classes': 2, 'update_interval': 140, 'momentum': 0.9, 'ae_weights': '/data/lucifer1.2/users/larai002/muon_data/clustering_models/dec/dec_no_labels/ae_weights.h5', 'save_dir': '/data/lucifer1.2/users/larai002/muon_data/clustering_models/dec/dec_no_labels', 'rotation': False, 'lr': 0.01, 'batch_size': 256, 'nodes': [500, 500, 2000, 10]}\n",
      "True\n",
      "(2474, 499) (2474,)\n",
      "[499, 500, 500, 2000, 10]\n",
      "305\n",
      "300\n",
      "298\n",
      "302\n",
      "302\n",
      "301.4\n",
      "(2474,)\n",
      "8.20836098208361\n"
     ]
    }
   ],
   "source": [
    "%matplotlib inline\n",
    "import pickle\n",
    "import logging\n",
    "import os\n",
    "import numpy as np\n",
    "\n",
    "from muon.dissolving.experiments.simulate_efficiency import EfficiencyStudy\n",
    "from muon.dissolving.decv2 import Config\n",
    "\n",
    "logger = logging.getLogger()\n",
    "logger.setLevel(logging.WARN)\n",
    "\n",
    "\n",
    "save_dir = 'mnt/clustering_models/dec/dec_no_labels'\n",
    "config = Config.load(save_dir+'/config.json')\n",
    "print(config)\n",
    "print(os.path.isfile(config.ae_weights))\n",
    "with open('mnt/subjects/split_hugh_norotation_xy.pkl', 'rb') as file:\n",
    "    splits = pickle.load(file)\n",
    "\n",
    "# for k in splits:\n",
    "#     x = np.concatenate([splits[k][0] for k in splits], axis=0)\n",
    "#     y = np.concatenate([splits[k][1] for k in splits], axis=0)\n",
    "x, y = splits['test']\n",
    "print(x.shape, y.shape)\n",
    "\n",
    "data = EfficiencyStudy.run(save_dir, x, y)\n",
    "\n",
    "print(y.shape)\n",
    "print(y.shape[0]/data)"
   ]
  },
  {
   "cell_type": "markdown",
   "metadata": {},
   "source": [
    "Looking at the more noisy labels from the volunteers. For 68989 available subjects, without rotation, we get 3.8x reduction in the number of classifications needed."
   ]
  },
  {
   "cell_type": "code",
   "execution_count": 3,
   "metadata": {},
   "outputs": [
    {
     "name": "stdout",
     "output_type": "stream",
     "text": [
      "{'subjects': '/data/lucifer1.2/users/larai002/muon_data/clustering_models/dec/dec_no_labels/subjects.pkl', 'tol': 0.001, 'maxiter': 20000.0, 'n_clusters': 50, 'n_classes': 2, 'update_interval': 140, 'momentum': 0.9, 'ae_weights': '/data/lucifer1.2/users/larai002/muon_data/clustering_models/dec/dec_no_labels/ae_weights.h5', 'save_dir': '/data/lucifer1.2/users/larai002/muon_data/clustering_models/dec/dec_no_labels', 'rotation': False, 'lr': 0.01, 'batch_size': 256, 'nodes': [500, 500, 2000, 10]}\n",
      "True\n",
      "(2474, 499) (2474,)\n",
      "[499, 500, 500, 2000, 10]\n",
      "278\n",
      "280\n",
      "272\n",
      "267\n",
      "276\n",
      "274.6\n",
      "(2474,)\n",
      "9.009468317552804\n"
     ]
    }
   ],
   "source": [
    "%matplotlib inline\n",
    "import pickle\n",
    "import logging\n",
    "import os\n",
    "import numpy as np\n",
    "\n",
    "from muon.dissolving.experiments.simulate_efficiency import EfficiencyStudy\n",
    "from muon.dissolving.decv2 import Config\n",
    "\n",
    "logger = logging.getLogger()\n",
    "logger.setLevel(logging.WARN)\n",
    "\n",
    "\n",
    "save_dir = 'mnt/clustering_models/dec/dec_no_labels'\n",
    "config = Config.load(save_dir+'/config.json')\n",
    "print(config)\n",
    "print(os.path.isfile(config.ae_weights))\n",
    "with open('mnt/subjects/split_volunteer_norotation_xy.pkl', 'rb') as file:\n",
    "    splits = pickle.load(file)\n",
    "\n",
    "# for k in splits:\n",
    "#     x = np.concatenate([splits[k][0] for k in splits], axis=0)\n",
    "#     y = np.concatenate([splits[k][1] for k in splits], axis=0)\n",
    "x, y = splits['test']\n",
    "print(x.shape, y.shape)\n",
    "\n",
    "data = EfficiencyStudy.run(save_dir, x, y)\n",
    "\n",
    "print(y.shape)\n",
    "print(y.shape[0]/data)"
   ]
  }
 ],
 "metadata": {
  "kernelspec": {
   "display_name": "muon",
   "language": "python",
   "name": "muon"
  },
  "language_info": {
   "codemirror_mode": {
    "name": "ipython",
    "version": 3
   },
   "file_extension": ".py",
   "mimetype": "text/x-python",
   "name": "python",
   "nbconvert_exporter": "python",
   "pygments_lexer": "ipython3",
   "version": "3.5.3"
  }
 },
 "nbformat": 4,
 "nbformat_minor": 2
}
